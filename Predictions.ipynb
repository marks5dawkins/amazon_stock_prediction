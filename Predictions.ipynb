{
 "cells": [
  {
   "cell_type": "code",
   "execution_count": 1,
   "metadata": {},
   "outputs": [],
   "source": [
    "import numpy as np\n",
    "import pandas as pd\n",
    "import seaborn as sns\n",
    "import matplotlib.pyplot as plt\n",
    "from sklearn.preprocessing import MinMaxScaler"
   ]
  },
  {
   "cell_type": "code",
   "execution_count": 21,
   "metadata": {},
   "outputs": [],
   "source": [
    "# Reading The Price Data\n",
    "data = pd.read_csv('data/AMZN.csv', parse_dates = True, index_col = 'Date')"
   ]
  },
  {
   "cell_type": "code",
   "execution_count": 22,
   "metadata": {},
   "outputs": [
    {
     "data": {
      "text/html": [
       "<div>\n",
       "<style scoped>\n",
       "    .dataframe tbody tr th:only-of-type {\n",
       "        vertical-align: middle;\n",
       "    }\n",
       "\n",
       "    .dataframe tbody tr th {\n",
       "        vertical-align: top;\n",
       "    }\n",
       "\n",
       "    .dataframe thead th {\n",
       "        text-align: right;\n",
       "    }\n",
       "</style>\n",
       "<table border=\"1\" class=\"dataframe\">\n",
       "  <thead>\n",
       "    <tr style=\"text-align: right;\">\n",
       "      <th></th>\n",
       "      <th>Open</th>\n",
       "      <th>High</th>\n",
       "      <th>Low</th>\n",
       "      <th>Close</th>\n",
       "      <th>Volume</th>\n",
       "    </tr>\n",
       "    <tr>\n",
       "      <th>Date</th>\n",
       "      <th></th>\n",
       "      <th></th>\n",
       "      <th></th>\n",
       "      <th></th>\n",
       "      <th></th>\n",
       "    </tr>\n",
       "  </thead>\n",
       "  <tbody>\n",
       "    <tr>\n",
       "      <th>1997-05-15</th>\n",
       "      <td>2.437500</td>\n",
       "      <td>2.500000</td>\n",
       "      <td>1.927083</td>\n",
       "      <td>1.958333</td>\n",
       "      <td>72156000</td>\n",
       "    </tr>\n",
       "    <tr>\n",
       "      <th>1997-05-16</th>\n",
       "      <td>1.968750</td>\n",
       "      <td>1.979167</td>\n",
       "      <td>1.708333</td>\n",
       "      <td>1.729167</td>\n",
       "      <td>14700000</td>\n",
       "    </tr>\n",
       "    <tr>\n",
       "      <th>1997-05-19</th>\n",
       "      <td>1.760417</td>\n",
       "      <td>1.770833</td>\n",
       "      <td>1.625000</td>\n",
       "      <td>1.708333</td>\n",
       "      <td>6106800</td>\n",
       "    </tr>\n",
       "    <tr>\n",
       "      <th>1997-05-20</th>\n",
       "      <td>1.729167</td>\n",
       "      <td>1.750000</td>\n",
       "      <td>1.635417</td>\n",
       "      <td>1.635417</td>\n",
       "      <td>5467200</td>\n",
       "    </tr>\n",
       "    <tr>\n",
       "      <th>1997-05-21</th>\n",
       "      <td>1.635417</td>\n",
       "      <td>1.645833</td>\n",
       "      <td>1.375000</td>\n",
       "      <td>1.427083</td>\n",
       "      <td>18853200</td>\n",
       "    </tr>\n",
       "    <tr>\n",
       "      <th>...</th>\n",
       "      <td>...</td>\n",
       "      <td>...</td>\n",
       "      <td>...</td>\n",
       "      <td>...</td>\n",
       "      <td>...</td>\n",
       "    </tr>\n",
       "    <tr>\n",
       "      <th>2020-04-23</th>\n",
       "      <td>2399.979980</td>\n",
       "      <td>2424.219971</td>\n",
       "      <td>2382.080078</td>\n",
       "      <td>2399.449951</td>\n",
       "      <td>5066600</td>\n",
       "    </tr>\n",
       "    <tr>\n",
       "      <th>2020-04-24</th>\n",
       "      <td>2417.000000</td>\n",
       "      <td>2420.429932</td>\n",
       "      <td>2382.000000</td>\n",
       "      <td>2410.219971</td>\n",
       "      <td>3831800</td>\n",
       "    </tr>\n",
       "    <tr>\n",
       "      <th>2020-04-27</th>\n",
       "      <td>2443.199951</td>\n",
       "      <td>2444.879883</td>\n",
       "      <td>2363.000000</td>\n",
       "      <td>2376.000000</td>\n",
       "      <td>5645600</td>\n",
       "    </tr>\n",
       "    <tr>\n",
       "      <th>2020-04-28</th>\n",
       "      <td>2372.100098</td>\n",
       "      <td>2373.500000</td>\n",
       "      <td>2306.000000</td>\n",
       "      <td>2314.080078</td>\n",
       "      <td>5269400</td>\n",
       "    </tr>\n",
       "    <tr>\n",
       "      <th>2020-04-29</th>\n",
       "      <td>2330.010010</td>\n",
       "      <td>2391.889893</td>\n",
       "      <td>2310.000000</td>\n",
       "      <td>2372.709961</td>\n",
       "      <td>4549500</td>\n",
       "    </tr>\n",
       "  </tbody>\n",
       "</table>\n",
       "<p>5777 rows × 5 columns</p>\n",
       "</div>"
      ],
      "text/plain": [
       "                   Open         High          Low        Close    Volume\n",
       "Date                                                                    \n",
       "1997-05-15     2.437500     2.500000     1.927083     1.958333  72156000\n",
       "1997-05-16     1.968750     1.979167     1.708333     1.729167  14700000\n",
       "1997-05-19     1.760417     1.770833     1.625000     1.708333   6106800\n",
       "1997-05-20     1.729167     1.750000     1.635417     1.635417   5467200\n",
       "1997-05-21     1.635417     1.645833     1.375000     1.427083  18853200\n",
       "...                 ...          ...          ...          ...       ...\n",
       "2020-04-23  2399.979980  2424.219971  2382.080078  2399.449951   5066600\n",
       "2020-04-24  2417.000000  2420.429932  2382.000000  2410.219971   3831800\n",
       "2020-04-27  2443.199951  2444.879883  2363.000000  2376.000000   5645600\n",
       "2020-04-28  2372.100098  2373.500000  2306.000000  2314.080078   5269400\n",
       "2020-04-29  2330.010010  2391.889893  2310.000000  2372.709961   4549500\n",
       "\n",
       "[5777 rows x 5 columns]"
      ]
     },
     "execution_count": 22,
     "metadata": {},
     "output_type": "execute_result"
    }
   ],
   "source": [
    "# Filtering The Columns\n",
    "data = data.drop(columns = ['Adj Close'])\n",
    "data"
   ]
  },
  {
   "cell_type": "code",
   "execution_count": 23,
   "metadata": {},
   "outputs": [
    {
     "data": {
      "text/plain": [
       "Open      False\n",
       "High      False\n",
       "Low       False\n",
       "Close     False\n",
       "Volume    False\n",
       "dtype: bool"
      ]
     },
     "execution_count": 23,
     "metadata": {},
     "output_type": "execute_result"
    }
   ],
   "source": [
    "# Checking For NAN OR Missing Values\n",
    "data.isna().any()"
   ]
  },
  {
   "cell_type": "code",
   "execution_count": 24,
   "metadata": {},
   "outputs": [
    {
     "name": "stdout",
     "output_type": "stream",
     "text": [
      "<class 'pandas.core.frame.DataFrame'>\n",
      "DatetimeIndex: 5777 entries, 1997-05-15 to 2020-04-29\n",
      "Data columns (total 5 columns):\n",
      " #   Column  Non-Null Count  Dtype  \n",
      "---  ------  --------------  -----  \n",
      " 0   Open    5777 non-null   float64\n",
      " 1   High    5777 non-null   float64\n",
      " 2   Low     5777 non-null   float64\n",
      " 3   Close   5777 non-null   float64\n",
      " 4   Volume  5777 non-null   int64  \n",
      "dtypes: float64(4), int64(1)\n",
      "memory usage: 270.8 KB\n"
     ]
    }
   ],
   "source": [
    "# Info\n",
    "data.info()"
   ]
  },
  {
   "cell_type": "markdown",
   "metadata": {},
   "source": [
    "### Visualizing The Open & Close"
   ]
  },
  {
   "cell_type": "code",
   "execution_count": 34,
   "metadata": {},
   "outputs": [
    {
     "data": {
      "image/png": "[encoded data removed]",
      "text/plain": [
       "<Figure size 1080x432 with 1 Axes>"
      ]
     },
     "metadata": {},
     "output_type": "display_data"
    }
   ],
   "source": [
    "sns.set(style = 'darkgrid')\n",
    "plt.figure(figsize=(15, 6))\n",
    "\n",
    "plt.title('Amazon Stock Market Prices')\n",
    "plt.ylabel('Prices')\n",
    "plt.xlabel('Date')\n",
    "\n",
    "plt.plot(data['Open'], linewidth=3, color = 'orange')\n",
    "plt.plot(data['Close'], linewidth=3, color = 'purple')\n",
    "\n",
    "plt.legend(['Open', 'Close'], loc = 'upper left')\n",
    "plt.savefig('open_close_prices.png', dpi = 100)\n",
    "plt.show()"
   ]
  },
  {
   "cell_type": "code",
   "execution_count": 35,
   "metadata": {},
   "outputs": [
    {
     "data": {
      "image/png": "[encoded data removed]",
      "text/plain": [
       "<Figure size 1080x432 with 1 Axes>"
      ]
     },
     "metadata": {},
     "output_type": "display_data"
    }
   ],
   "source": [
    "sns.set(style = 'darkgrid')\n",
    "plt.figure(figsize=(15, 6))\n",
    "\n",
    "plt.title('Amazon Stock Market Prices')\n",
    "plt.ylabel('Prices')\n",
    "plt.xlabel('Date')\n",
    "\n",
    "plt.plot(data['High'], linewidth=3, color = 'red')\n",
    "plt.plot(data['Low'], linewidth=3, color = 'green')\n",
    "\n",
    "plt.legend(['High', 'Low'], loc = 'upper left')\n",
    "plt.savefig('high_low_prices.png', dpi = 100)\n",
    "plt.show()"
   ]
  },
  {
   "cell_type": "code",
   "execution_count": 43,
   "metadata": {},
   "outputs": [
    {
     "data": {
      "text/plain": [
       "4622"
      ]
     },
     "execution_count": 43,
     "metadata": {},
     "output_type": "execute_result"
    }
   ],
   "source": [
    "# Get 80% Of Training Data Length\n",
    "training_data_length = np.ceil(data.shape[0] * 0.8).astype('int')\n",
    "training_data_length"
   ]
  },
  {
   "cell_type": "code",
   "execution_count": 46,
   "metadata": {},
   "outputs": [
    {
     "data": {
      "text/html": [
       "<div>\n",
       "<style scoped>\n",
       "    .dataframe tbody tr th:only-of-type {\n",
       "        vertical-align: middle;\n",
       "    }\n",
       "\n",
       "    .dataframe tbody tr th {\n",
       "        vertical-align: top;\n",
       "    }\n",
       "\n",
       "    .dataframe thead th {\n",
       "        text-align: right;\n",
       "    }\n",
       "</style>\n",
       "<table border=\"1\" class=\"dataframe\">\n",
       "  <thead>\n",
       "    <tr style=\"text-align: right;\">\n",
       "      <th></th>\n",
       "      <th>Open</th>\n",
       "      <th>High</th>\n",
       "      <th>Low</th>\n",
       "      <th>Close</th>\n",
       "      <th>Volume</th>\n",
       "    </tr>\n",
       "    <tr>\n",
       "      <th>Date</th>\n",
       "      <th></th>\n",
       "      <th></th>\n",
       "      <th></th>\n",
       "      <th></th>\n",
       "      <th></th>\n",
       "    </tr>\n",
       "  </thead>\n",
       "  <tbody>\n",
       "    <tr>\n",
       "      <th>1997-05-15</th>\n",
       "      <td>2.437500</td>\n",
       "      <td>2.500000</td>\n",
       "      <td>1.927083</td>\n",
       "      <td>1.958333</td>\n",
       "      <td>72156000</td>\n",
       "    </tr>\n",
       "    <tr>\n",
       "      <th>1997-05-16</th>\n",
       "      <td>1.968750</td>\n",
       "      <td>1.979167</td>\n",
       "      <td>1.708333</td>\n",
       "      <td>1.729167</td>\n",
       "      <td>14700000</td>\n",
       "    </tr>\n",
       "    <tr>\n",
       "      <th>1997-05-19</th>\n",
       "      <td>1.760417</td>\n",
       "      <td>1.770833</td>\n",
       "      <td>1.625000</td>\n",
       "      <td>1.708333</td>\n",
       "      <td>6106800</td>\n",
       "    </tr>\n",
       "    <tr>\n",
       "      <th>1997-05-20</th>\n",
       "      <td>1.729167</td>\n",
       "      <td>1.750000</td>\n",
       "      <td>1.635417</td>\n",
       "      <td>1.635417</td>\n",
       "      <td>5467200</td>\n",
       "    </tr>\n",
       "    <tr>\n",
       "      <th>1997-05-21</th>\n",
       "      <td>1.635417</td>\n",
       "      <td>1.645833</td>\n",
       "      <td>1.375000</td>\n",
       "      <td>1.427083</td>\n",
       "      <td>18853200</td>\n",
       "    </tr>\n",
       "    <tr>\n",
       "      <th>...</th>\n",
       "      <td>...</td>\n",
       "      <td>...</td>\n",
       "      <td>...</td>\n",
       "      <td>...</td>\n",
       "      <td>...</td>\n",
       "    </tr>\n",
       "    <tr>\n",
       "      <th>2015-09-21</th>\n",
       "      <td>544.330017</td>\n",
       "      <td>549.780029</td>\n",
       "      <td>539.590027</td>\n",
       "      <td>548.390015</td>\n",
       "      <td>3283300</td>\n",
       "    </tr>\n",
       "    <tr>\n",
       "      <th>2015-09-22</th>\n",
       "      <td>539.710022</td>\n",
       "      <td>543.549988</td>\n",
       "      <td>532.659973</td>\n",
       "      <td>538.400024</td>\n",
       "      <td>3841700</td>\n",
       "    </tr>\n",
       "    <tr>\n",
       "      <th>2015-09-23</th>\n",
       "      <td>538.299988</td>\n",
       "      <td>541.210022</td>\n",
       "      <td>534.000000</td>\n",
       "      <td>536.070007</td>\n",
       "      <td>2237600</td>\n",
       "    </tr>\n",
       "    <tr>\n",
       "      <th>2015-09-24</th>\n",
       "      <td>530.549988</td>\n",
       "      <td>534.559998</td>\n",
       "      <td>522.869995</td>\n",
       "      <td>533.750000</td>\n",
       "      <td>3501000</td>\n",
       "    </tr>\n",
       "    <tr>\n",
       "      <th>2015-09-25</th>\n",
       "      <td>542.570007</td>\n",
       "      <td>542.799988</td>\n",
       "      <td>521.400024</td>\n",
       "      <td>524.250000</td>\n",
       "      <td>4031000</td>\n",
       "    </tr>\n",
       "  </tbody>\n",
       "</table>\n",
       "<p>4622 rows × 5 columns</p>\n",
       "</div>"
      ],
      "text/plain": [
       "                  Open        High         Low       Close    Volume\n",
       "Date                                                                \n",
       "1997-05-15    2.437500    2.500000    1.927083    1.958333  72156000\n",
       "1997-05-16    1.968750    1.979167    1.708333    1.729167  14700000\n",
       "1997-05-19    1.760417    1.770833    1.625000    1.708333   6106800\n",
       "1997-05-20    1.729167    1.750000    1.635417    1.635417   5467200\n",
       "1997-05-21    1.635417    1.645833    1.375000    1.427083  18853200\n",
       "...                ...         ...         ...         ...       ...\n",
       "2015-09-21  544.330017  549.780029  539.590027  548.390015   3283300\n",
       "2015-09-22  539.710022  543.549988  532.659973  538.400024   3841700\n",
       "2015-09-23  538.299988  541.210022  534.000000  536.070007   2237600\n",
       "2015-09-24  530.549988  534.559998  522.869995  533.750000   3501000\n",
       "2015-09-25  542.570007  542.799988  521.400024  524.250000   4031000\n",
       "\n",
       "[4622 rows x 5 columns]"
      ]
     },
     "execution_count": 46,
     "metadata": {},
     "output_type": "execute_result"
    }
   ],
   "source": [
    "# Grabing The Training Data\n",
    "training_data = data[:training_data_length]\n",
    "training_data"
   ]
  },
  {
   "cell_type": "code",
   "execution_count": 49,
   "metadata": {},
   "outputs": [
    {
     "data": {
      "text/plain": [
       "array([[1.78545539e-03, 1.81668601e-03, 1.14175861e-03, 1.02834732e-03,\n",
       "        6.90171607e-01],\n",
       "       [9.73884757e-04, 9.17336792e-04, 7.35369731e-04, 6.09392222e-04,\n",
       "        1.36869475e-01],\n",
       "       [6.13187276e-04, 5.57595722e-04, 5.80555539e-04, 5.71304066e-04,\n",
       "        5.41168313e-02],\n",
       "       ...,\n",
       "       [9.29551337e-01, 9.32035083e-01, 9.89614972e-01, 9.77476894e-01,\n",
       "        1.68563780e-02],\n",
       "       [9.16133370e-01, 9.20552143e-01, 9.68937897e-01, 9.73235520e-01,\n",
       "        2.90229387e-02],\n",
       "       [9.36944238e-01, 9.34780559e-01, 9.66207018e-01, 9.55867876e-01,\n",
       "        3.41268466e-02]])"
      ]
     },
     "execution_count": 49,
     "metadata": {},
     "output_type": "execute_result"
    }
   ],
   "source": [
    "# Normalizing The Training Data\n",
    "scaler = MinMaxScaler(feature_range = (0, 1))\n",
    "scaled_training_data = scaler.fit_transform(training_data)\n",
    "scaled_training_data"
   ]
  },
  {
   "cell_type": "code",
   "execution_count": null,
   "metadata": {},
   "outputs": [],
   "source": []
  }
 ],
 "metadata": {
  "kernelspec": {
   "display_name": "Python 3",
   "language": "python",
   "name": "python3"
  },
  "language_info": {
   "codemirror_mode": {
    "name": "ipython",
    "version": 3
   },
   "file_extension": ".py",
   "mimetype": "text/x-python",
   "name": "python",
   "nbconvert_exporter": "python",
   "pygments_lexer": "ipython3",
   "version": "3.7.6"
  }
 },
 "nbformat": 4,
 "nbformat_minor": 4
}
