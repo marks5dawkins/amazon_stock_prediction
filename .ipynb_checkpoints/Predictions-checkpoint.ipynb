{
 "cells": [
  {
   "cell_type": "code",
   "execution_count": 1,
   "metadata": {},
   "outputs": [],
   "source": [
    "import numpy as np\n",
    "import pandas as pd\n",
    "import seaborn as sns\n",
    "import matplotlib.pyplot as plt\n",
    "from sklearn.preprocessing import MinMaxScaler"
   ]
  },
  {
   "cell_type": "code",
   "execution_count": 2,
   "metadata": {},
   "outputs": [],
   "source": [
    "# Reading The Price Data\n",
    "data = pd.read_csv('data/AMZN.csv', parse_dates = True, index_col = 'Date')"
   ]
  },
  {
   "cell_type": "code",
   "execution_count": 3,
   "metadata": {},
   "outputs": [
    {
     "data": {
      "text/html": [
       "<div>\n",
       "<style scoped>\n",
       "    .dataframe tbody tr th:only-of-type {\n",
       "        vertical-align: middle;\n",
       "    }\n",
       "\n",
       "    .dataframe tbody tr th {\n",
       "        vertical-align: top;\n",
       "    }\n",
       "\n",
       "    .dataframe thead th {\n",
       "        text-align: right;\n",
       "    }\n",
       "</style>\n",
       "<table border=\"1\" class=\"dataframe\">\n",
       "  <thead>\n",
       "    <tr style=\"text-align: right;\">\n",
       "      <th></th>\n",
       "      <th>Open</th>\n",
       "      <th>High</th>\n",
       "      <th>Low</th>\n",
       "      <th>Close</th>\n",
       "      <th>Volume</th>\n",
       "    </tr>\n",
       "    <tr>\n",
       "      <th>Date</th>\n",
       "      <th></th>\n",
       "      <th></th>\n",
       "      <th></th>\n",
       "      <th></th>\n",
       "      <th></th>\n",
       "    </tr>\n",
       "  </thead>\n",
       "  <tbody>\n",
       "    <tr>\n",
       "      <th>1997-05-15</th>\n",
       "      <td>2.437500</td>\n",
       "      <td>2.500000</td>\n",
       "      <td>1.927083</td>\n",
       "      <td>1.958333</td>\n",
       "      <td>72156000</td>\n",
       "    </tr>\n",
       "    <tr>\n",
       "      <th>1997-05-16</th>\n",
       "      <td>1.968750</td>\n",
       "      <td>1.979167</td>\n",
       "      <td>1.708333</td>\n",
       "      <td>1.729167</td>\n",
       "      <td>14700000</td>\n",
       "    </tr>\n",
       "    <tr>\n",
       "      <th>1997-05-19</th>\n",
       "      <td>1.760417</td>\n",
       "      <td>1.770833</td>\n",
       "      <td>1.625000</td>\n",
       "      <td>1.708333</td>\n",
       "      <td>6106800</td>\n",
       "    </tr>\n",
       "    <tr>\n",
       "      <th>1997-05-20</th>\n",
       "      <td>1.729167</td>\n",
       "      <td>1.750000</td>\n",
       "      <td>1.635417</td>\n",
       "      <td>1.635417</td>\n",
       "      <td>5467200</td>\n",
       "    </tr>\n",
       "    <tr>\n",
       "      <th>1997-05-21</th>\n",
       "      <td>1.635417</td>\n",
       "      <td>1.645833</td>\n",
       "      <td>1.375000</td>\n",
       "      <td>1.427083</td>\n",
       "      <td>18853200</td>\n",
       "    </tr>\n",
       "    <tr>\n",
       "      <th>...</th>\n",
       "      <td>...</td>\n",
       "      <td>...</td>\n",
       "      <td>...</td>\n",
       "      <td>...</td>\n",
       "      <td>...</td>\n",
       "    </tr>\n",
       "    <tr>\n",
       "      <th>2020-04-23</th>\n",
       "      <td>2399.979980</td>\n",
       "      <td>2424.219971</td>\n",
       "      <td>2382.080078</td>\n",
       "      <td>2399.449951</td>\n",
       "      <td>5066600</td>\n",
       "    </tr>\n",
       "    <tr>\n",
       "      <th>2020-04-24</th>\n",
       "      <td>2417.000000</td>\n",
       "      <td>2420.429932</td>\n",
       "      <td>2382.000000</td>\n",
       "      <td>2410.219971</td>\n",
       "      <td>3831800</td>\n",
       "    </tr>\n",
       "    <tr>\n",
       "      <th>2020-04-27</th>\n",
       "      <td>2443.199951</td>\n",
       "      <td>2444.879883</td>\n",
       "      <td>2363.000000</td>\n",
       "      <td>2376.000000</td>\n",
       "      <td>5645600</td>\n",
       "    </tr>\n",
       "    <tr>\n",
       "      <th>2020-04-28</th>\n",
       "      <td>2372.100098</td>\n",
       "      <td>2373.500000</td>\n",
       "      <td>2306.000000</td>\n",
       "      <td>2314.080078</td>\n",
       "      <td>5269400</td>\n",
       "    </tr>\n",
       "    <tr>\n",
       "      <th>2020-04-29</th>\n",
       "      <td>2330.010010</td>\n",
       "      <td>2391.889893</td>\n",
       "      <td>2310.000000</td>\n",
       "      <td>2372.709961</td>\n",
       "      <td>4549500</td>\n",
       "    </tr>\n",
       "  </tbody>\n",
       "</table>\n",
       "<p>5777 rows × 5 columns</p>\n",
       "</div>"
      ],
      "text/plain": [
       "                   Open         High          Low        Close    Volume\n",
       "Date                                                                    \n",
       "1997-05-15     2.437500     2.500000     1.927083     1.958333  72156000\n",
       "1997-05-16     1.968750     1.979167     1.708333     1.729167  14700000\n",
       "1997-05-19     1.760417     1.770833     1.625000     1.708333   6106800\n",
       "1997-05-20     1.729167     1.750000     1.635417     1.635417   5467200\n",
       "1997-05-21     1.635417     1.645833     1.375000     1.427083  18853200\n",
       "...                 ...          ...          ...          ...       ...\n",
       "2020-04-23  2399.979980  2424.219971  2382.080078  2399.449951   5066600\n",
       "2020-04-24  2417.000000  2420.429932  2382.000000  2410.219971   3831800\n",
       "2020-04-27  2443.199951  2444.879883  2363.000000  2376.000000   5645600\n",
       "2020-04-28  2372.100098  2373.500000  2306.000000  2314.080078   5269400\n",
       "2020-04-29  2330.010010  2391.889893  2310.000000  2372.709961   4549500\n",
       "\n",
       "[5777 rows x 5 columns]"
      ]
     },
     "execution_count": 3,
     "metadata": {},
     "output_type": "execute_result"
    }
   ],
   "source": [
    "# Filtering The Columns\n",
    "data = data.drop(columns = ['Adj Close'])\n",
    "data"
   ]
  },
  {
   "cell_type": "code",
   "execution_count": 4,
   "metadata": {},
   "outputs": [
    {
     "data": {
      "text/plain": [
       "Open      False\n",
       "High      False\n",
       "Low       False\n",
       "Close     False\n",
       "Volume    False\n",
       "dtype: bool"
      ]
     },
     "execution_count": 4,
     "metadata": {},
     "output_type": "execute_result"
    }
   ],
   "source": [
    "# Checking For NAN OR Missing Values\n",
    "data.isna().any()"
   ]
  },
  {
   "cell_type": "code",
   "execution_count": 5,
   "metadata": {},
   "outputs": [
    {
     "name": "stdout",
     "output_type": "stream",
     "text": [
      "<class 'pandas.core.frame.DataFrame'>\n",
      "DatetimeIndex: 5777 entries, 1997-05-15 to 2020-04-29\n",
      "Data columns (total 5 columns):\n",
      " #   Column  Non-Null Count  Dtype  \n",
      "---  ------  --------------  -----  \n",
      " 0   Open    5777 non-null   float64\n",
      " 1   High    5777 non-null   float64\n",
      " 2   Low     5777 non-null   float64\n",
      " 3   Close   5777 non-null   float64\n",
      " 4   Volume  5777 non-null   int64  \n",
      "dtypes: float64(4), int64(1)\n",
      "memory usage: 270.8 KB\n"
     ]
    }
   ],
   "source": [
    "# Info\n",
    "data.info()"
   ]
  },
  {
   "cell_type": "markdown",
   "metadata": {},
   "source": [
    "### Visualizing The Open & Close"
   ]
  },
  {
   "cell_type": "code",
   "execution_count": 6,
   "metadata": {},
   "outputs": [
    {
     "data": {
      "image/png": "[encoded data removed]",
      "text/plain": [
       "<Figure size 1080x432 with 1 Axes>"
      ]
     },
     "metadata": {},
     "output_type": "display_data"
    }
   ],
   "source": [
    "sns.set(style = 'darkgrid')\n",
    "plt.figure(figsize=(15, 6))\n",
    "\n",
    "plt.title('Amazon Stock Market Prices')\n",
    "plt.ylabel('Prices')\n",
    "plt.xlabel('Date')\n",
    "\n",
    "plt.plot(data['Open'], linewidth=3, color = 'orange')\n",
    "plt.plot(data['Close'], linewidth=3, color = 'purple')\n",
    "\n",
    "plt.legend(['Open', 'Close'], loc = 'upper left')\n",
    "plt.savefig('open_close_prices.png', dpi = 100)\n",
    "plt.show()"
   ]
  },
  {
   "cell_type": "code",
   "execution_count": 7,
   "metadata": {},
   "outputs": [
    {
     "data": {
      "image/png": "[encoded data removed]",
      "text/plain": [
       "<Figure size 1080x432 with 1 Axes>"
      ]
     },
     "metadata": {},
     "output_type": "display_data"
    }
   ],
   "source": [
    "sns.set(style = 'darkgrid')\n",
    "plt.figure(figsize=(15, 6))\n",
    "\n",
    "plt.title('Amazon Stock Market Prices')\n",
    "plt.ylabel('Prices')\n",
    "plt.xlabel('Date')\n",
    "\n",
    "plt.plot(data['High'], linewidth=3, color = 'red')\n",
    "plt.plot(data['Low'], linewidth=3, color = 'green')\n",
    "\n",
    "plt.legend(['High', 'Low'], loc = 'upper left')\n",
    "plt.savefig('high_low_prices.png', dpi = 100)\n",
    "plt.show()"
   ]
  },
  {
   "cell_type": "code",
   "execution_count": 8,
   "metadata": {},
   "outputs": [
    {
     "data": {
      "text/plain": [
       "4622"
      ]
     },
     "execution_count": 8,
     "metadata": {},
     "output_type": "execute_result"
    }
   ],
   "source": [
    "# Get 80% Of Training Data Length\n",
    "training_data_length = np.ceil(data.shape[0] * 0.8).astype('int')\n",
    "training_data_length"
   ]
  },
  {
   "cell_type": "code",
   "execution_count": 9,
   "metadata": {},
   "outputs": [
    {
     "data": {
      "text/html": [
       "<div>\n",
       "<style scoped>\n",
       "    .dataframe tbody tr th:only-of-type {\n",
       "        vertical-align: middle;\n",
       "    }\n",
       "\n",
       "    .dataframe tbody tr th {\n",
       "        vertical-align: top;\n",
       "    }\n",
       "\n",
       "    .dataframe thead th {\n",
       "        text-align: right;\n",
       "    }\n",
       "</style>\n",
       "<table border=\"1\" class=\"dataframe\">\n",
       "  <thead>\n",
       "    <tr style=\"text-align: right;\">\n",
       "      <th></th>\n",
       "      <th>Open</th>\n",
       "      <th>High</th>\n",
       "      <th>Low</th>\n",
       "      <th>Close</th>\n",
       "      <th>Volume</th>\n",
       "    </tr>\n",
       "    <tr>\n",
       "      <th>Date</th>\n",
       "      <th></th>\n",
       "      <th></th>\n",
       "      <th></th>\n",
       "      <th></th>\n",
       "      <th></th>\n",
       "    </tr>\n",
       "  </thead>\n",
       "  <tbody>\n",
       "    <tr>\n",
       "      <th>1997-05-15</th>\n",
       "      <td>2.437500</td>\n",
       "      <td>2.500000</td>\n",
       "      <td>1.927083</td>\n",
       "      <td>1.958333</td>\n",
       "      <td>72156000</td>\n",
       "    </tr>\n",
       "    <tr>\n",
       "      <th>1997-05-16</th>\n",
       "      <td>1.968750</td>\n",
       "      <td>1.979167</td>\n",
       "      <td>1.708333</td>\n",
       "      <td>1.729167</td>\n",
       "      <td>14700000</td>\n",
       "    </tr>\n",
       "    <tr>\n",
       "      <th>1997-05-19</th>\n",
       "      <td>1.760417</td>\n",
       "      <td>1.770833</td>\n",
       "      <td>1.625000</td>\n",
       "      <td>1.708333</td>\n",
       "      <td>6106800</td>\n",
       "    </tr>\n",
       "    <tr>\n",
       "      <th>1997-05-20</th>\n",
       "      <td>1.729167</td>\n",
       "      <td>1.750000</td>\n",
       "      <td>1.635417</td>\n",
       "      <td>1.635417</td>\n",
       "      <td>5467200</td>\n",
       "    </tr>\n",
       "    <tr>\n",
       "      <th>1997-05-21</th>\n",
       "      <td>1.635417</td>\n",
       "      <td>1.645833</td>\n",
       "      <td>1.375000</td>\n",
       "      <td>1.427083</td>\n",
       "      <td>18853200</td>\n",
       "    </tr>\n",
       "    <tr>\n",
       "      <th>...</th>\n",
       "      <td>...</td>\n",
       "      <td>...</td>\n",
       "      <td>...</td>\n",
       "      <td>...</td>\n",
       "      <td>...</td>\n",
       "    </tr>\n",
       "    <tr>\n",
       "      <th>2015-09-21</th>\n",
       "      <td>544.330017</td>\n",
       "      <td>549.780029</td>\n",
       "      <td>539.590027</td>\n",
       "      <td>548.390015</td>\n",
       "      <td>3283300</td>\n",
       "    </tr>\n",
       "    <tr>\n",
       "      <th>2015-09-22</th>\n",
       "      <td>539.710022</td>\n",
       "      <td>543.549988</td>\n",
       "      <td>532.659973</td>\n",
       "      <td>538.400024</td>\n",
       "      <td>3841700</td>\n",
       "    </tr>\n",
       "    <tr>\n",
       "      <th>2015-09-23</th>\n",
       "      <td>538.299988</td>\n",
       "      <td>541.210022</td>\n",
       "      <td>534.000000</td>\n",
       "      <td>536.070007</td>\n",
       "      <td>2237600</td>\n",
       "    </tr>\n",
       "    <tr>\n",
       "      <th>2015-09-24</th>\n",
       "      <td>530.549988</td>\n",
       "      <td>534.559998</td>\n",
       "      <td>522.869995</td>\n",
       "      <td>533.750000</td>\n",
       "      <td>3501000</td>\n",
       "    </tr>\n",
       "    <tr>\n",
       "      <th>2015-09-25</th>\n",
       "      <td>542.570007</td>\n",
       "      <td>542.799988</td>\n",
       "      <td>521.400024</td>\n",
       "      <td>524.250000</td>\n",
       "      <td>4031000</td>\n",
       "    </tr>\n",
       "  </tbody>\n",
       "</table>\n",
       "<p>4622 rows × 5 columns</p>\n",
       "</div>"
      ],
      "text/plain": [
       "                  Open        High         Low       Close    Volume\n",
       "Date                                                                \n",
       "1997-05-15    2.437500    2.500000    1.927083    1.958333  72156000\n",
       "1997-05-16    1.968750    1.979167    1.708333    1.729167  14700000\n",
       "1997-05-19    1.760417    1.770833    1.625000    1.708333   6106800\n",
       "1997-05-20    1.729167    1.750000    1.635417    1.635417   5467200\n",
       "1997-05-21    1.635417    1.645833    1.375000    1.427083  18853200\n",
       "...                ...         ...         ...         ...       ...\n",
       "2015-09-21  544.330017  549.780029  539.590027  548.390015   3283300\n",
       "2015-09-22  539.710022  543.549988  532.659973  538.400024   3841700\n",
       "2015-09-23  538.299988  541.210022  534.000000  536.070007   2237600\n",
       "2015-09-24  530.549988  534.559998  522.869995  533.750000   3501000\n",
       "2015-09-25  542.570007  542.799988  521.400024  524.250000   4031000\n",
       "\n",
       "[4622 rows x 5 columns]"
      ]
     },
     "execution_count": 9,
     "metadata": {},
     "output_type": "execute_result"
    }
   ],
   "source": [
    "# Grabing The Training Data\n",
    "training_data = data[:training_data_length]\n",
    "training_data"
   ]
  },
  {
   "cell_type": "code",
   "execution_count": 10,
   "metadata": {},
   "outputs": [
    {
     "data": {
      "text/plain": [
       "array([[1.78545539e-03, 1.81668601e-03, 1.14175861e-03, 1.02834732e-03,\n",
       "        6.90171607e-01],\n",
       "       [9.73884757e-04, 9.17336792e-04, 7.35369731e-04, 6.09392222e-04,\n",
       "        1.36869475e-01],\n",
       "       [6.13187276e-04, 5.57595722e-04, 5.80555539e-04, 5.71304066e-04,\n",
       "        5.41168313e-02],\n",
       "       ...,\n",
       "       [9.29551337e-01, 9.32035083e-01, 9.89614972e-01, 9.77476894e-01,\n",
       "        1.68563780e-02],\n",
       "       [9.16133370e-01, 9.20552143e-01, 9.68937897e-01, 9.73235520e-01,\n",
       "        2.90229387e-02],\n",
       "       [9.36944238e-01, 9.34780559e-01, 9.66207018e-01, 9.55867876e-01,\n",
       "        3.41268466e-02]])"
      ]
     },
     "execution_count": 10,
     "metadata": {},
     "output_type": "execute_result"
    }
   ],
   "source": [
    "# Normalizing The Training Data\n",
    "scaler = MinMaxScaler(feature_range = (0, 1))\n",
    "scaled_training_data = scaler.fit_transform(training_data)\n",
    "scaled_training_data"
   ]
  },
  {
   "cell_type": "code",
   "execution_count": 142,
   "metadata": {},
   "outputs": [],
   "source": [
    "# Split The Training Set Into X_train, y_train\n",
    "def split_dataset(dataset):\n",
    "    X = []\n",
    "    y = []\n",
    "\n",
    "    for i in range(60, dataset.shape[0] - 60):\n",
    "        X.append(dataset[i-60:i, 0])\n",
    "        y.append(dataset[i:i+2, 0])\n",
    "    return np.array(X), np.array(y)"
   ]
  },
  {
   "cell_type": "code",
   "execution_count": 143,
   "metadata": {},
   "outputs": [],
   "source": [
    "X_train, y_train = split_dataset(scaled_training_data)"
   ]
  },
  {
   "cell_type": "code",
   "execution_count": 144,
   "metadata": {},
   "outputs": [
    {
     "data": {
      "text/plain": [
       "((4502, 60, 1), (4502, 2))"
      ]
     },
     "execution_count": 144,
     "metadata": {},
     "output_type": "execute_result"
    }
   ],
   "source": [
    "# Reshaping\n",
    "# y_train = y_train.reshape(y_train.shape[0], 60, 1)\n",
    "X_train = X_train.reshape(X_train.shape[0], X_train.shape[1], 1)\n",
    "\n",
    "X_train.shape, y_train.shape\n",
    "# y_train"
   ]
  },
  {
   "cell_type": "markdown",
   "metadata": {},
   "source": [
    "## Building The LSTM Model"
   ]
  },
  {
   "cell_type": "code",
   "execution_count": 145,
   "metadata": {},
   "outputs": [],
   "source": [
    "from tensorflow import keras\n",
    "from tensorflow.keras import Sequential\n",
    "from tensorflow.keras.layers import LSTM, Dense, Dropout\n",
    "from sklearn.metrics import mean_squared_error"
   ]
  },
  {
   "cell_type": "code",
   "execution_count": 207,
   "metadata": {},
   "outputs": [],
   "source": [
    "# Initializing The RNN\n",
    "model = Sequential()\n",
    "\n",
    "# Adding The First LSTM Layer & Dropout\n",
    "model.add(LSTM(units = 50, return_sequences = True, input_shape = (X_train.shape[1], 1)))\n",
    "model.add(Dropout(0.2))\n",
    "\n",
    "# Adding The Second LSTM Layer & Dropout\n",
    "# model.add(LSTM(units = 60, return_sequences = True))\n",
    "# model.add(Dropout(0.2))\n",
    "\n",
    "# Adding The Last LSTM Layer & Dropout\n",
    "model.add(LSTM(units = 60))\n",
    "model.add(Dropout(0.2))\n",
    "\n",
    "# Adding The Final Dense Layer & Dropout\n",
    "model.add(Dense(units = 2))"
   ]
  },
  {
   "cell_type": "code",
   "execution_count": 208,
   "metadata": {},
   "outputs": [],
   "source": [
    "# Compling The Model\n",
    "model.compile(optimizer = 'adam', loss = 'mean_squared_error')"
   ]
  },
  {
   "cell_type": "code",
   "execution_count": 209,
   "metadata": {},
   "outputs": [
    {
     "name": "stdout",
     "output_type": "stream",
     "text": [
      "Train on 3601 samples, validate on 901 samples\n",
      "Epoch 1/20\n",
      "3601/3601 [==============================] - 24s 7ms/sample - loss: 0.0013 - val_loss: 0.0017\n",
      "Epoch 2/20\n",
      "3601/3601 [==============================] - 15s 4ms/sample - loss: 2.9792e-04 - val_loss: 6.9601e-04\n",
      "Epoch 3/20\n",
      "3601/3601 [==============================] - 14s 4ms/sample - loss: 2.6187e-04 - val_loss: 9.4565e-04\n",
      "Epoch 4/20\n",
      "3601/3601 [==============================] - 13s 4ms/sample - loss: 2.0465e-04 - val_loss: 0.0013\n",
      "Epoch 5/20\n",
      "3601/3601 [==============================] - 13s 4ms/sample - loss: 1.8465e-04 - val_loss: 5.5079e-04\n",
      "Epoch 6/20\n",
      "3601/3601 [==============================] - 13s 4ms/sample - loss: 1.8556e-04 - val_loss: 8.0837e-04\n",
      "Epoch 7/20\n",
      "3601/3601 [==============================] - 15s 4ms/sample - loss: 1.7771e-04 - val_loss: 0.0016\n",
      "Epoch 8/20\n",
      "3601/3601 [==============================] - 14s 4ms/sample - loss: 1.6512e-04 - val_loss: 3.7877e-04\n",
      "Epoch 9/20\n",
      "3601/3601 [==============================] - 14s 4ms/sample - loss: 1.4475e-04 - val_loss: 4.2365e-04\n",
      "Epoch 10/20\n",
      "3601/3601 [==============================] - 14s 4ms/sample - loss: 1.5382e-04 - val_loss: 3.3631e-04\n",
      "Epoch 11/20\n",
      "3601/3601 [==============================] - 14s 4ms/sample - loss: 1.3326e-04 - val_loss: 5.7314e-04\n",
      "Epoch 12/20\n",
      "3601/3601 [==============================] - 14s 4ms/sample - loss: 1.4592e-04 - val_loss: 0.0013\n",
      "Epoch 13/20\n",
      "3601/3601 [==============================] - 15s 4ms/sample - loss: 1.3623e-04 - val_loss: 4.1328e-04\n",
      "Epoch 14/20\n",
      "3601/3601 [==============================] - 13s 4ms/sample - loss: 1.3855e-04 - val_loss: 2.9566e-04\n",
      "Epoch 15/20\n",
      "3601/3601 [==============================] - 13s 4ms/sample - loss: 1.2307e-04 - val_loss: 0.0031\n",
      "Epoch 16/20\n",
      "3601/3601 [==============================] - 14s 4ms/sample - loss: 1.1949e-04 - val_loss: 2.6919e-04\n",
      "Epoch 17/20\n",
      "3601/3601 [==============================] - 16s 4ms/sample - loss: 1.2091e-04 - val_loss: 4.7055e-04\n",
      "Epoch 18/20\n",
      "3601/3601 [==============================] - 14s 4ms/sample - loss: 1.2653e-04 - val_loss: 3.5327e-04\n",
      "Epoch 19/20\n",
      "3601/3601 [==============================] - 15s 4ms/sample - loss: 1.2156e-04 - val_loss: 4.8328e-04\n",
      "Epoch 20/20\n",
      "3601/3601 [==============================] - 14s 4ms/sample - loss: 1.1917e-04 - val_loss: 5.1395e-04\n"
     ]
    },
    {
     "data": {
      "text/plain": [
       "<tensorflow.python.keras.callbacks.History at 0x561c8788>"
      ]
     },
     "execution_count": 209,
     "metadata": {},
     "output_type": "execute_result"
    }
   ],
   "source": [
    "# Train The Model\n",
    "model.fit(X_train, y_train, batch_size = 32, epochs = 20, validation_split = 0.2)"
   ]
  },
  {
   "cell_type": "code",
   "execution_count": 210,
   "metadata": {},
   "outputs": [],
   "source": [
    "# Saving The Model\n",
    "model.save('amazon_stock_predictor.model')"
   ]
  },
  {
   "cell_type": "markdown",
   "metadata": {},
   "source": [
    "## Test Data Preprocessing"
   ]
  },
  {
   "cell_type": "code",
   "execution_count": 211,
   "metadata": {},
   "outputs": [
    {
     "data": {
      "text/html": [
       "<div>\n",
       "<style scoped>\n",
       "    .dataframe tbody tr th:only-of-type {\n",
       "        vertical-align: middle;\n",
       "    }\n",
       "\n",
       "    .dataframe tbody tr th {\n",
       "        vertical-align: top;\n",
       "    }\n",
       "\n",
       "    .dataframe thead th {\n",
       "        text-align: right;\n",
       "    }\n",
       "</style>\n",
       "<table border=\"1\" class=\"dataframe\">\n",
       "  <thead>\n",
       "    <tr style=\"text-align: right;\">\n",
       "      <th></th>\n",
       "      <th>Open</th>\n",
       "      <th>High</th>\n",
       "      <th>Low</th>\n",
       "      <th>Close</th>\n",
       "      <th>Volume</th>\n",
       "    </tr>\n",
       "    <tr>\n",
       "      <th>Date</th>\n",
       "      <th></th>\n",
       "      <th></th>\n",
       "      <th></th>\n",
       "      <th></th>\n",
       "      <th></th>\n",
       "    </tr>\n",
       "  </thead>\n",
       "  <tbody>\n",
       "    <tr>\n",
       "      <th>1997-05-15</th>\n",
       "      <td>2.437500</td>\n",
       "      <td>2.500000</td>\n",
       "      <td>1.927083</td>\n",
       "      <td>1.958333</td>\n",
       "      <td>72156000</td>\n",
       "    </tr>\n",
       "    <tr>\n",
       "      <th>1997-05-16</th>\n",
       "      <td>1.968750</td>\n",
       "      <td>1.979167</td>\n",
       "      <td>1.708333</td>\n",
       "      <td>1.729167</td>\n",
       "      <td>14700000</td>\n",
       "    </tr>\n",
       "    <tr>\n",
       "      <th>1997-05-19</th>\n",
       "      <td>1.760417</td>\n",
       "      <td>1.770833</td>\n",
       "      <td>1.625000</td>\n",
       "      <td>1.708333</td>\n",
       "      <td>6106800</td>\n",
       "    </tr>\n",
       "    <tr>\n",
       "      <th>1997-05-20</th>\n",
       "      <td>1.729167</td>\n",
       "      <td>1.750000</td>\n",
       "      <td>1.635417</td>\n",
       "      <td>1.635417</td>\n",
       "      <td>5467200</td>\n",
       "    </tr>\n",
       "    <tr>\n",
       "      <th>1997-05-21</th>\n",
       "      <td>1.635417</td>\n",
       "      <td>1.645833</td>\n",
       "      <td>1.375000</td>\n",
       "      <td>1.427083</td>\n",
       "      <td>18853200</td>\n",
       "    </tr>\n",
       "    <tr>\n",
       "      <th>...</th>\n",
       "      <td>...</td>\n",
       "      <td>...</td>\n",
       "      <td>...</td>\n",
       "      <td>...</td>\n",
       "      <td>...</td>\n",
       "    </tr>\n",
       "    <tr>\n",
       "      <th>2020-04-23</th>\n",
       "      <td>2399.979980</td>\n",
       "      <td>2424.219971</td>\n",
       "      <td>2382.080078</td>\n",
       "      <td>2399.449951</td>\n",
       "      <td>5066600</td>\n",
       "    </tr>\n",
       "    <tr>\n",
       "      <th>2020-04-24</th>\n",
       "      <td>2417.000000</td>\n",
       "      <td>2420.429932</td>\n",
       "      <td>2382.000000</td>\n",
       "      <td>2410.219971</td>\n",
       "      <td>3831800</td>\n",
       "    </tr>\n",
       "    <tr>\n",
       "      <th>2020-04-27</th>\n",
       "      <td>2443.199951</td>\n",
       "      <td>2444.879883</td>\n",
       "      <td>2363.000000</td>\n",
       "      <td>2376.000000</td>\n",
       "      <td>5645600</td>\n",
       "    </tr>\n",
       "    <tr>\n",
       "      <th>2020-04-28</th>\n",
       "      <td>2372.100098</td>\n",
       "      <td>2373.500000</td>\n",
       "      <td>2306.000000</td>\n",
       "      <td>2314.080078</td>\n",
       "      <td>5269400</td>\n",
       "    </tr>\n",
       "    <tr>\n",
       "      <th>2020-04-29</th>\n",
       "      <td>2330.010010</td>\n",
       "      <td>2391.889893</td>\n",
       "      <td>2310.000000</td>\n",
       "      <td>2372.709961</td>\n",
       "      <td>4549500</td>\n",
       "    </tr>\n",
       "  </tbody>\n",
       "</table>\n",
       "<p>5777 rows × 5 columns</p>\n",
       "</div>"
      ],
      "text/plain": [
       "                   Open         High          Low        Close    Volume\n",
       "Date                                                                    \n",
       "1997-05-15     2.437500     2.500000     1.927083     1.958333  72156000\n",
       "1997-05-16     1.968750     1.979167     1.708333     1.729167  14700000\n",
       "1997-05-19     1.760417     1.770833     1.625000     1.708333   6106800\n",
       "1997-05-20     1.729167     1.750000     1.635417     1.635417   5467200\n",
       "1997-05-21     1.635417     1.645833     1.375000     1.427083  18853200\n",
       "...                 ...          ...          ...          ...       ...\n",
       "2020-04-23  2399.979980  2424.219971  2382.080078  2399.449951   5066600\n",
       "2020-04-24  2417.000000  2420.429932  2382.000000  2410.219971   3831800\n",
       "2020-04-27  2443.199951  2444.879883  2363.000000  2376.000000   5645600\n",
       "2020-04-28  2372.100098  2373.500000  2306.000000  2314.080078   5269400\n",
       "2020-04-29  2330.010010  2391.889893  2310.000000  2372.709961   4549500\n",
       "\n",
       "[5777 rows x 5 columns]"
      ]
     },
     "execution_count": 211,
     "metadata": {},
     "output_type": "execute_result"
    }
   ],
   "source": [
    "data"
   ]
  },
  {
   "cell_type": "code",
   "execution_count": 212,
   "metadata": {},
   "outputs": [
    {
     "data": {
      "text/html": [
       "<div>\n",
       "<style scoped>\n",
       "    .dataframe tbody tr th:only-of-type {\n",
       "        vertical-align: middle;\n",
       "    }\n",
       "\n",
       "    .dataframe tbody tr th {\n",
       "        vertical-align: top;\n",
       "    }\n",
       "\n",
       "    .dataframe thead th {\n",
       "        text-align: right;\n",
       "    }\n",
       "</style>\n",
       "<table border=\"1\" class=\"dataframe\">\n",
       "  <thead>\n",
       "    <tr style=\"text-align: right;\">\n",
       "      <th></th>\n",
       "      <th>Open</th>\n",
       "      <th>High</th>\n",
       "      <th>Low</th>\n",
       "      <th>Close</th>\n",
       "      <th>Volume</th>\n",
       "    </tr>\n",
       "    <tr>\n",
       "      <th>Date</th>\n",
       "      <th></th>\n",
       "      <th></th>\n",
       "      <th></th>\n",
       "      <th></th>\n",
       "      <th></th>\n",
       "    </tr>\n",
       "  </thead>\n",
       "  <tbody>\n",
       "    <tr>\n",
       "      <th>2015-07-02</th>\n",
       "      <td>437.000000</td>\n",
       "      <td>438.200012</td>\n",
       "      <td>433.480011</td>\n",
       "      <td>437.709991</td>\n",
       "      <td>1343400</td>\n",
       "    </tr>\n",
       "    <tr>\n",
       "      <th>2015-07-06</th>\n",
       "      <td>435.230011</td>\n",
       "      <td>439.730011</td>\n",
       "      <td>433.519989</td>\n",
       "      <td>436.040009</td>\n",
       "      <td>1903200</td>\n",
       "    </tr>\n",
       "    <tr>\n",
       "      <th>2015-07-07</th>\n",
       "      <td>435.679993</td>\n",
       "      <td>437.730011</td>\n",
       "      <td>425.570007</td>\n",
       "      <td>436.720001</td>\n",
       "      <td>3454200</td>\n",
       "    </tr>\n",
       "    <tr>\n",
       "      <th>2015-07-08</th>\n",
       "      <td>434.350006</td>\n",
       "      <td>435.989990</td>\n",
       "      <td>428.829987</td>\n",
       "      <td>429.700012</td>\n",
       "      <td>2383100</td>\n",
       "    </tr>\n",
       "    <tr>\n",
       "      <th>2015-07-09</th>\n",
       "      <td>434.899994</td>\n",
       "      <td>438.720001</td>\n",
       "      <td>434.149994</td>\n",
       "      <td>434.390015</td>\n",
       "      <td>2271400</td>\n",
       "    </tr>\n",
       "    <tr>\n",
       "      <th>...</th>\n",
       "      <td>...</td>\n",
       "      <td>...</td>\n",
       "      <td>...</td>\n",
       "      <td>...</td>\n",
       "      <td>...</td>\n",
       "    </tr>\n",
       "    <tr>\n",
       "      <th>2020-04-23</th>\n",
       "      <td>2399.979980</td>\n",
       "      <td>2424.219971</td>\n",
       "      <td>2382.080078</td>\n",
       "      <td>2399.449951</td>\n",
       "      <td>5066600</td>\n",
       "    </tr>\n",
       "    <tr>\n",
       "      <th>2020-04-24</th>\n",
       "      <td>2417.000000</td>\n",
       "      <td>2420.429932</td>\n",
       "      <td>2382.000000</td>\n",
       "      <td>2410.219971</td>\n",
       "      <td>3831800</td>\n",
       "    </tr>\n",
       "    <tr>\n",
       "      <th>2020-04-27</th>\n",
       "      <td>2443.199951</td>\n",
       "      <td>2444.879883</td>\n",
       "      <td>2363.000000</td>\n",
       "      <td>2376.000000</td>\n",
       "      <td>5645600</td>\n",
       "    </tr>\n",
       "    <tr>\n",
       "      <th>2020-04-28</th>\n",
       "      <td>2372.100098</td>\n",
       "      <td>2373.500000</td>\n",
       "      <td>2306.000000</td>\n",
       "      <td>2314.080078</td>\n",
       "      <td>5269400</td>\n",
       "    </tr>\n",
       "    <tr>\n",
       "      <th>2020-04-29</th>\n",
       "      <td>2330.010010</td>\n",
       "      <td>2391.889893</td>\n",
       "      <td>2310.000000</td>\n",
       "      <td>2372.709961</td>\n",
       "      <td>4549500</td>\n",
       "    </tr>\n",
       "  </tbody>\n",
       "</table>\n",
       "<p>1215 rows × 5 columns</p>\n",
       "</div>"
      ],
      "text/plain": [
       "                   Open         High          Low        Close   Volume\n",
       "Date                                                                   \n",
       "2015-07-02   437.000000   438.200012   433.480011   437.709991  1343400\n",
       "2015-07-06   435.230011   439.730011   433.519989   436.040009  1903200\n",
       "2015-07-07   435.679993   437.730011   425.570007   436.720001  3454200\n",
       "2015-07-08   434.350006   435.989990   428.829987   429.700012  2383100\n",
       "2015-07-09   434.899994   438.720001   434.149994   434.390015  2271400\n",
       "...                 ...          ...          ...          ...      ...\n",
       "2020-04-23  2399.979980  2424.219971  2382.080078  2399.449951  5066600\n",
       "2020-04-24  2417.000000  2420.429932  2382.000000  2410.219971  3831800\n",
       "2020-04-27  2443.199951  2444.879883  2363.000000  2376.000000  5645600\n",
       "2020-04-28  2372.100098  2373.500000  2306.000000  2314.080078  5269400\n",
       "2020-04-29  2330.010010  2391.889893  2310.000000  2372.709961  4549500\n",
       "\n",
       "[1215 rows x 5 columns]"
      ]
     },
     "execution_count": 212,
     "metadata": {},
     "output_type": "execute_result"
    }
   ],
   "source": [
    "# Get 20% Of Test Data\n",
    "test_data = data[training_data_length-60:]\n",
    "test_data"
   ]
  },
  {
   "cell_type": "code",
   "execution_count": 213,
   "metadata": {},
   "outputs": [
    {
     "data": {
      "text/plain": [
       "(1215, 5)"
      ]
     },
     "execution_count": 213,
     "metadata": {},
     "output_type": "execute_result"
    }
   ],
   "source": [
    "# Scalling The Test Data\n",
    "scaled_test_data = scaler.transform(test_data)\n",
    "scaled_test_data.shape"
   ]
  },
  {
   "cell_type": "code",
   "execution_count": 214,
   "metadata": {},
   "outputs": [],
   "source": [
    "# Split Test Data Into X_test, y_test\n",
    "X_test, y_test = split_dataset(scaled_test_data)"
   ]
  },
  {
   "cell_type": "code",
   "execution_count": 215,
   "metadata": {},
   "outputs": [
    {
     "data": {
      "text/plain": [
       "((1095, 60, 1), (1095, 2))"
      ]
     },
     "execution_count": 215,
     "metadata": {},
     "output_type": "execute_result"
    }
   ],
   "source": [
    "# Reshaping\n",
    "X_test = X_test.reshape(X_test.shape[0], X_test.shape[1], 1)\n",
    "X_test.shape, y_test.shape"
   ]
  },
  {
   "cell_type": "markdown",
   "metadata": {},
   "source": [
    "## Evaluate & Predictions"
   ]
  },
  {
   "cell_type": "code",
   "execution_count": 216,
   "metadata": {},
   "outputs": [],
   "source": [
    "# Load The Model\n",
    "model = keras.models.load_model('amazon_stock_predictor.model')"
   ]
  },
  {
   "cell_type": "code",
   "execution_count": 217,
   "metadata": {},
   "outputs": [
    {
     "name": "stdout",
     "output_type": "stream",
     "text": [
      "1095/1095 [==============================] - 3s 3ms/sample - loss: 0.2530\n"
     ]
    },
    {
     "data": {
      "text/plain": [
       "0.2529659645334226"
      ]
     },
     "execution_count": 217,
     "metadata": {},
     "output_type": "execute_result"
    }
   ],
   "source": [
    "# Evaluate The Model\n",
    "loss = model.evaluate(X_test, y_test)\n",
    "loss"
   ]
  },
  {
   "cell_type": "code",
   "execution_count": 218,
   "metadata": {},
   "outputs": [
    {
     "data": {
      "text/plain": [
       "array([[0.877247  , 0.8810571 ],\n",
       "       [0.87267715, 0.8764626 ],\n",
       "       [0.8624492 , 0.86615586],\n",
       "       ...,\n",
       "       [2.4115548 , 2.421161  ],\n",
       "       [2.4107876 , 2.4203546 ],\n",
       "       [2.4494328 , 2.4587822 ]], dtype=float32)"
      ]
     },
     "execution_count": 218,
     "metadata": {},
     "output_type": "execute_result"
    }
   ],
   "source": [
    "# Make Predictions\n",
    "predictions = model.predict(X_test)\n",
    "predictions"
   ]
  },
  {
   "cell_type": "code",
   "execution_count": 219,
   "metadata": {},
   "outputs": [
    {
     "data": {
      "text/plain": [
       "0.2529659681434997"
      ]
     },
     "execution_count": 219,
     "metadata": {},
     "output_type": "execute_result"
    }
   ],
   "source": [
    "# Find The Error\n",
    "error = mean_squared_error(predictions, y_test)\n",
    "error"
   ]
  },
  {
   "cell_type": "code",
   "execution_count": 220,
   "metadata": {},
   "outputs": [
    {
     "data": {
      "text/plain": [
       "((1095, 2), (1095, 2))"
      ]
     },
     "execution_count": 220,
     "metadata": {},
     "output_type": "execute_result"
    }
   ],
   "source": [
    "# Unscalling\n",
    "predictions = predictions * 1/scaler.scale_[0]\n",
    "y_test = y_test * 1/scaler.scale_[0]\n",
    "\n",
    "predictions.shape, y_test.shape"
   ]
  },
  {
   "cell_type": "code",
   "execution_count": 221,
   "metadata": {},
   "outputs": [
    {
     "data": {
      "text/html": [
       "<div>\n",
       "<style scoped>\n",
       "    .dataframe tbody tr th:only-of-type {\n",
       "        vertical-align: middle;\n",
       "    }\n",
       "\n",
       "    .dataframe tbody tr th {\n",
       "        vertical-align: top;\n",
       "    }\n",
       "\n",
       "    .dataframe thead th {\n",
       "        text-align: right;\n",
       "    }\n",
       "</style>\n",
       "<table border=\"1\" class=\"dataframe\">\n",
       "  <thead>\n",
       "    <tr style=\"text-align: right;\">\n",
       "      <th></th>\n",
       "      <th>Actual</th>\n",
       "      <th>Prediction</th>\n",
       "    </tr>\n",
       "  </thead>\n",
       "  <tbody>\n",
       "    <tr>\n",
       "      <th>0</th>\n",
       "      <td>518.613770</td>\n",
       "      <td>506.683594</td>\n",
       "    </tr>\n",
       "    <tr>\n",
       "      <th>1</th>\n",
       "      <td>504.593750</td>\n",
       "      <td>508.884247</td>\n",
       "    </tr>\n",
       "    <tr>\n",
       "      <th>2</th>\n",
       "      <td>504.593750</td>\n",
       "      <td>504.044128</td>\n",
       "    </tr>\n",
       "    <tr>\n",
       "      <th>3</th>\n",
       "      <td>504.033752</td>\n",
       "      <td>506.230530</td>\n",
       "    </tr>\n",
       "    <tr>\n",
       "      <th>4</th>\n",
       "      <td>504.033752</td>\n",
       "      <td>498.136658</td>\n",
       "    </tr>\n",
       "    <tr>\n",
       "      <th>...</th>\n",
       "      <td>...</td>\n",
       "      <td>...</td>\n",
       "    </tr>\n",
       "    <tr>\n",
       "      <th>2185</th>\n",
       "      <td>2050.063721</td>\n",
       "      <td>1398.423218</td>\n",
       "    </tr>\n",
       "    <tr>\n",
       "      <th>2186</th>\n",
       "      <td>2050.063721</td>\n",
       "      <td>1392.431763</td>\n",
       "    </tr>\n",
       "    <tr>\n",
       "      <th>2187</th>\n",
       "      <td>2009.193726</td>\n",
       "      <td>1397.957520</td>\n",
       "    </tr>\n",
       "    <tr>\n",
       "      <th>2188</th>\n",
       "      <td>2009.193726</td>\n",
       "      <td>1414.752563</td>\n",
       "    </tr>\n",
       "    <tr>\n",
       "      <th>2189</th>\n",
       "      <td>2028.473755</td>\n",
       "      <td>1420.152588</td>\n",
       "    </tr>\n",
       "  </tbody>\n",
       "</table>\n",
       "<p>2190 rows × 2 columns</p>\n",
       "</div>"
      ],
      "text/plain": [
       "           Actual   Prediction\n",
       "0      518.613770   506.683594\n",
       "1      504.593750   508.884247\n",
       "2      504.593750   504.044128\n",
       "3      504.033752   506.230530\n",
       "4      504.033752   498.136658\n",
       "...           ...          ...\n",
       "2185  2050.063721  1398.423218\n",
       "2186  2050.063721  1392.431763\n",
       "2187  2009.193726  1397.957520\n",
       "2188  2009.193726  1414.752563\n",
       "2189  2028.473755  1420.152588\n",
       "\n",
       "[2190 rows x 2 columns]"
      ]
     },
     "execution_count": 221,
     "metadata": {},
     "output_type": "execute_result"
    }
   ],
   "source": [
    "# Create New DataFrame Predictions VS Test Data\n",
    "new_df = pd.DataFrame({\"Actual\": y_test.flatten(), \"Prediction\": predictions.flatten()})\n",
    "new_df"
   ]
  },
  {
   "cell_type": "markdown",
   "metadata": {},
   "source": [
    "## Visualizing"
   ]
  },
  {
   "cell_type": "code",
   "execution_count": 222,
   "metadata": {},
   "outputs": [
    {
     "data": {
      "image/png": "[encoded data removed]",
      "text/plain": [
       "<Figure size 1080x432 with 1 Axes>"
      ]
     },
     "metadata": {},
     "output_type": "display_data"
    }
   ],
   "source": [
    "sns.set(style = 'darkgrid')\n",
    "plt.figure(figsize = (15, 6))\n",
    "\n",
    "plt.title('Amazon Stock Market Prediction')\n",
    "plt.ylabel('Open')\n",
    "plt.xlabel('Timestamps')\n",
    "\n",
    "plt.plot(new_df['Actual'], color = 'blue', linewidth = 3)\n",
    "plt.plot(new_df['Prediction'], color = 'red', linewidth = 3)\n",
    "\n",
    "plt.legend(['Actual', 'Prediction'], loc = 'upper left')\n",
    "plt.savefig('prediction.png', dpi = 100)\n",
    "plt.show()"
   ]
  },
  {
   "cell_type": "code",
   "execution_count": null,
   "metadata": {},
   "outputs": [],
   "source": []
  }
 ],
 "metadata": {
  "kernelspec": {
   "display_name": "Python 3",
   "language": "python",
   "name": "python3"
  },
  "language_info": {
   "codemirror_mode": {
    "name": "ipython",
    "version": 3
   },
   "file_extension": ".py",
   "mimetype": "text/x-python",
   "name": "python",
   "nbconvert_exporter": "python",
   "pygments_lexer": "ipython3",
   "version": "3.7.6"
  }
 },
 "nbformat": 4,
 "nbformat_minor": 4
}
